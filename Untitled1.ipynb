{
 "cells": [
  {
   "cell_type": "markdown",
   "id": "2803680a",
   "metadata": {},
   "source": [
    "# Introductory implementation of a stack:\n",
    "class Stack:\n",
    "    def __init__(self):\n",
    "        self.items = []\n",
    "    def is_empt(self):\n",
    "        return self.items == []\n",
    "    def push(self, item):\n",
    "        self.items.append(item)\n",
    "    def pop(self):\n",
    "        return self.items.pop()\n",
    "    def peek(self):\n",
    "        return self.items[len(self.items)-1]\n",
    "    def size(self):\n",
    "        return len(self.items)"
   ]
  },
  {
   "cell_type": "markdown",
   "id": "15c08a0b",
   "metadata": {},
   "source": [
    "#Problem 2\n",
    "## Invert a string\n",
    "reverse_str(\"Rafael\") == \"leafaR\"\n",
    "reverse_str(\"cars\") == \"scar\"\n",
    "reverse_str(\"house\") == \"esuoh\""
   ]
  },
  {
   "cell_type": "raw",
   "id": "59278ac9",
   "metadata": {},
   "source": [
    "Anagram Check\n"
   ]
  },
  {
   "cell_type": "code",
   "execution_count": 9,
   "id": "cc7ee5b6",
   "metadata": {},
   "outputs": [],
   "source": [
    "string_a = \"Tom Marlovo Riddle\"\n",
    "string_b = \"I am Lord Voldemort\"\n",
    "#find the way to get is_anagram to return true for these values\n"
   ]
  },
  {
   "cell_type": "code",
   "execution_count": 16,
   "id": "3afdfd60",
   "metadata": {},
   "outputs": [],
   "source": [
    "def is_anagram(string_a, string_b):\n",
    "    # string_a = (string_a.replace(\" \",\"\")).lower()\n",
    "    # string_b = (string_b.replace(\" \",\"\")).lower()\n",
    "    # string_a = string_a.lower()\n",
    "    # string_b = string_b.lower()\n",
    "    \n",
    "    #count characters only\n",
    "    #Remove \" \" from String by subtracting if from length of String\n",
    "    string_a_int = len(string_a) - string_a.count(' ')\n",
    "    string_b_int = len(string_b) - string_b.count(' ')\n",
    "    if string_a_int != string_b_int:\n",
    "        return False\n",
    "    #srting_a_int is an int\n",
    "    \n",
    "    #convert chars to lowercase\n",
    "    string_a_chars = string_a.lower()\n",
    "    string_b_chars = string_b.lower()\n",
    "    #Print (string_a_chars, string_b_chars)\n",
    "    \n",
    "    char_times_a = dict()\n",
    "    char_times_b = dict()\n",
    "    \n",
    "    \n",
    "    #for loop to populate char_times_a\n",
    "    for i in range (len(string_a)):\n",
    "        if string_a[i] == \" \":\n",
    "            continue\n",
    "        if string_a_chars[i] not in char_times_a.keys():\n",
    "            char_times_a[string_a_chars[i]] = 1\n",
    "        else:\n",
    "            char_times_a[string_a_chars[i]] += 1\n",
    "    #run for loop to populate char_times_b\n",
    "    for i in range(len(string_b)):\n",
    "        if string_b_chars[i] not in char_times_b.keys():\n",
    "            char_times_b[string_b_chars[i]] = 1\n",
    "        else:\n",
    "            char_times_b[string_b_chars[i]] += 1\n",
    "    #remove\"\" key from char_times dict .... look up syntex\n",
    "    string_a_times = {key:val for key, val in char_times_a.items() if key !=' '}\n",
    "    string_b_times = {key:val for key, val in char_times_b.items() if key !=' '}\n",
    "    \n",
    "    return string_a_times == string_b_times\n",
    "\n",
    "\n",
    "    #print(string_a_times, string_b_times)\n",
    "\n",
    "\n",
    "                \n",
    "            \n",
    "    "
   ]
  },
  {
   "cell_type": "code",
   "execution_count": 17,
   "id": "7ce305f3",
   "metadata": {},
   "outputs": [
    {
     "data": {
      "text/plain": [
       "True"
      ]
     },
     "execution_count": 17,
     "metadata": {},
     "output_type": "execute_result"
    }
   ],
   "source": [
    "is_anagram(string_a, string_b)"
   ]
  },
  {
   "cell_type": "code",
   "execution_count": null,
   "id": "fbe70f48",
   "metadata": {},
   "outputs": [],
   "source": []
  }
 ],
 "metadata": {
  "kernelspec": {
   "display_name": "Python 3 (ipykernel)",
   "language": "python",
   "name": "python3"
  },
  "language_info": {
   "codemirror_mode": {
    "name": "ipython",
    "version": 3
   },
   "file_extension": ".py",
   "mimetype": "text/x-python",
   "name": "python",
   "nbconvert_exporter": "python",
   "pygments_lexer": "ipython3",
   "version": "3.8.10"
  }
 },
 "nbformat": 4,
 "nbformat_minor": 5
}
