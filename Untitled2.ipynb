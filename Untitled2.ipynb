{
 "cells": [
  {
   "cell_type": "code",
   "execution_count": 11,
   "id": "2b9ba094",
   "metadata": {},
   "outputs": [],
   "source": [
    "class Stack:\n",
    "    def __init__(self):\n",
    "        self.items = []\n",
    "    def is_empty(self):\n",
    "        return self.items ==[]\n",
    "    def push(self, item):\n",
    "        self.items.append(item)\n",
    "    def pop(self):\n",
    "        return self.items.pop()\n",
    "    def peek(self):\n",
    "        return self.items[len(self.items-1)]\n",
    "    def size(self):\n",
    "        return len(self.items)\n",
    "        \n",
    "    "
   ]
  },
  {
   "cell_type": "markdown",
   "id": "a1bc65c2",
   "metadata": {},
   "source": [
    "###String Reversal\n",
    "Example:\n",
    "    s=Rafael\n",
    "    o=reverse_str(s)\n",
    "    print(o)==\"leafaR\""
   ]
  },
  {
   "cell_type": "code",
   "execution_count": 18,
   "id": "cd85f423",
   "metadata": {},
   "outputs": [
    {
     "data": {
      "text/plain": [
       "'atevazilE'"
      ]
     },
     "execution_count": 18,
     "metadata": {},
     "output_type": "execute_result"
    }
   ],
   "source": [
    "def reverse_str(s):\n",
    "    stack = Stack()\n",
    "    for letter in s:\n",
    "        stack.push(letter)\n",
    "    reversal = \"\"\n",
    "    while stack.is_empty() == False:\n",
    "        reversal += stack.pop()\n",
    "    return reversal\n",
    "reverse_str(\"Elizaveta\")"
   ]
  },
  {
   "cell_type": "code",
   "execution_count": 19,
   "id": "877da4df",
   "metadata": {},
   "outputs": [],
   "source": [
    "def is_palindrome(mystring):\n",
    "    pivot1 = len(mystring)-1\n",
    "    pivot2 = 0\n",
    "    #last_char = mystring[len(mystring)-1]\n",
    "    #first_char = mystring[0]\n",
    "    while pivot2 < pivot1:\n",
    "        if mystring[pivot1] != mystring[pivot2]:\n",
    "            return False\n",
    "        pivot2 += 1\n",
    "        pivot1 -= 1\n",
    "    return True"
   ]
  },
  {
   "cell_type": "code",
   "execution_count": 20,
   "id": "63303994",
   "metadata": {},
   "outputs": [],
   "source": [
    "class Queue:\n",
    "    def __init__(self):\n",
    "        self.items = []\n",
    "    def is_empty(self):\n",
    "        return self.items == []\n",
    "    def enqueue(self, item):\n",
    "        self.items.insert(0, item)\n",
    "    def dequeue(self):\n",
    "        return self.items.pop()\n",
    "    def size(self):\n",
    "        return len(self.items)"
   ]
  },
  {
   "cell_type": "code",
   "execution_count": 22,
   "id": "a20c250e",
   "metadata": {},
   "outputs": [],
   "source": [
    "#string of paranthesis need to be balanced, balance string (open and closed brackets)\n",
    "#balance_check true take as parameter\n",
    "class Stack:\n",
    "    def __init__(self):\n",
    "        self.items = []\n",
    "    def is_empty(self):\n",
    "        return self.items ==[]\n",
    "    def push(self, item):\n",
    "        self.items.append(item)\n",
    "    def pop(self):\n",
    "        return self.items.pop()\n",
    "    def peek(self):\n",
    "        return self.items[len(self.items-1)]\n",
    "    def size(self):\n",
    "        return len(self.items)\n",
    "    \n",
    "def balance_check(s):\n",
    "    \n",
    "    if len(s)%2 == 0:\n",
    "        return False\n",
    "    opening = set(\"([[\")\n",
    "    matches = set([\n",
    "        (\"(\",\")\"),\n",
    "        (\"[\",\"]\"),\n",
    "        (\"(\",\")\"),\n",
    "    ])\n",
    "    stack = Stack()\n",
    "    for paren in s:\n",
    "        if paren in opening:\n",
    "            stack.push(paren)\n",
    "        else:\n",
    "            if stack.is_empty():\n",
    "                return False\n",
    "            last_open = stack.pop()\n",
    "            if (last_open, paren) not in matches:\n",
    "                return False\n",
    "    return stack.is_empty()\n",
    "    "
   ]
  },
  {
   "cell_type": "code",
   "execution_count": null,
   "id": "5f5e96a7",
   "metadata": {},
   "outputs": [],
   "source": []
  }
 ],
 "metadata": {
  "kernelspec": {
   "display_name": "Python 3 (ipykernel)",
   "language": "python",
   "name": "python3"
  },
  "language_info": {
   "codemirror_mode": {
    "name": "ipython",
    "version": 3
   },
   "file_extension": ".py",
   "mimetype": "text/x-python",
   "name": "python",
   "nbconvert_exporter": "python",
   "pygments_lexer": "ipython3",
   "version": "3.8.10"
  }
 },
 "nbformat": 4,
 "nbformat_minor": 5
}
