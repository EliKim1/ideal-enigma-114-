{
 "cells": [
  {
   "cell_type": "markdown",
   "id": "70243bd9",
   "metadata": {},
   "source": [
    "for letter in \"Hello world!\":\n",
    "    print(letter)\n",
    "    #press SHIFT+ENTER"
   ]
  },
  {
   "cell_type": "code",
   "execution_count": 2,
   "id": "8014d526",
   "metadata": {},
   "outputs": [
    {
     "name": "stdout",
     "output_type": "stream",
     "text": [
      "H\n",
      "e\n",
      "l\n",
      "l\n",
      "o\n",
      " \n",
      "w\n",
      "o\n",
      "r\n",
      "l\n",
      "d\n",
      "!\n"
     ]
    }
   ],
   "source": [
    "for letter in \"Hello world!\": print(letter) #press SHIFT+ENTER\n",
    "    "
   ]
  },
  {
   "cell_type": "markdown",
   "id": "9f5b846e",
   "metadata": {},
   "source": [
    "## given two strings as input determine if they are anagrams of each other given the following criteria:\n",
    "2 strings are only anagrams of each of all conditions below are met:\n",
    "1. They must be exactly the same length.\n",
    "2. They must use exactly the same characters.\n",
    "```\n",
    "Examples:\n",
    "cars and scar\n",
    "heart and earth\n",
    "etc\n",
    "```\n",
    "##### Note: Once you've copied everything press SHIFT+ENTER"
   ]
  },
  {
   "cell_type": "code",
   "execution_count": null,
   "id": "a8b7e43e",
   "metadata": {},
   "outputs": [],
   "source": [
    "# This ia a BAD ideaazsXDCFGH"
   ]
  }
 ],
 "metadata": {
  "kernelspec": {
   "display_name": "Python 3 (ipykernel)",
   "language": "python",
   "name": "python3"
  },
  "language_info": {
   "codemirror_mode": {
    "name": "ipython",
    "version": 3
   },
   "file_extension": ".py",
   "mimetype": "text/x-python",
   "name": "python",
   "nbconvert_exporter": "python",
   "pygments_lexer": "ipython3",
   "version": "3.8.10"
  }
 },
 "nbformat": 4,
 "nbformat_minor": 5
}
